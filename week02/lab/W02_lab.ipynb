{
 "cells": [
  {
   "cell_type": "markdown",
   "id": "37a681cd",
   "metadata": {},
   "source": [
    "# Week 2 Lab\n",
    "\n",
    "\n",
    "## Instructions\n",
    "\n",
    "For each task, write your code in the first cell below the comment. To check that it works as intended, run the second cell. You can run the tests as many times as you like.\n",
    "\n",
    "\n",
    "## Due date\n",
    "\n",
    "Labs are due each week on Wednesday at 10:00pm."
   ]
  },
  {
   "cell_type": "markdown",
   "id": "9b431277",
   "metadata": {},
   "source": [
    "## Assignment"
   ]
  },
  {
   "cell_type": "markdown",
   "id": "1d06e413",
   "metadata": {},
   "source": [
    "### Task 1: Using strings\n",
    "\n",
    "Create three variables called `name`, `adjective`, and `noun`. Assign a string as a value to each of them. (The actual value of the string can be anything, but this exercise will be more fun if you write in one word to each variable that corresponds to the part of speech in the variable name.)"
   ]
  },
  {
   "cell_type": "code",
   "execution_count": null,
   "id": "5c5d3f62",
   "metadata": {},
   "outputs": [],
   "source": [
    "# Write your code in this cell, in the lines below this comment, and run it\n",
    "# (You can delete or leave the commented code in this Lab; up to you!)\n"
   ]
  },
  {
   "cell_type": "code",
   "execution_count": null,
   "id": "f3db4297",
   "metadata": {
    "scrolled": true
   },
   "outputs": [],
   "source": [
    "# Run the below code cells to check that things are working as you expect.\n",
    "# This one will check that your variable, name, is indeed a string (we want to see True)\n",
    "\n",
    "type(name) == str"
   ]
  },
  {
   "cell_type": "code",
   "execution_count": null,
   "id": "96ba1d6d",
   "metadata": {},
   "outputs": [],
   "source": [
    "type(adjective) == str"
   ]
  },
  {
   "cell_type": "code",
   "execution_count": null,
   "id": "3d109051",
   "metadata": {},
   "outputs": [],
   "source": [
    "type(noun) == str"
   ]
  },
  {
   "cell_type": "code",
   "execution_count": null,
   "id": "8d431694",
   "metadata": {},
   "outputs": [],
   "source": [
    "# And this should print a madlibs sentence\n",
    "\n",
    "print(f\"...And then there was {name}, who was eaten alive by a {adjective} {noun}.\")"
   ]
  },
  {
   "cell_type": "markdown",
   "id": "6c0b7900",
   "metadata": {},
   "source": [
    "### Task 2: Using integers\n",
    "Create two new variables called `number` and `number_times_four`. Assign an integer to `number`, and use a bit of math so that the value of `number_times_four` is the value of `number` multiplied by four."
   ]
  },
  {
   "cell_type": "code",
   "execution_count": null,
   "id": "d81ec33c",
   "metadata": {},
   "outputs": [],
   "source": [
    "# Write your code in this cell and run it \n"
   ]
  },
  {
   "cell_type": "code",
   "execution_count": null,
   "id": "7ddebef9",
   "metadata": {},
   "outputs": [],
   "source": [
    "# Run the below code cells to check that things are working as you expect.\n",
    "# This one will check that your variable, number, is an integer (we want to see \"True\" as the output)\n",
    "\n",
    "type(number) == int"
   ]
  },
  {
   "cell_type": "code",
   "execution_count": null,
   "id": "13ef866b",
   "metadata": {},
   "outputs": [],
   "source": [
    "# This will check that your variable, number_times_four, is an integer (we're again looking for \"True\")\n",
    "\n",
    "type(number_times_four) == int"
   ]
  },
  {
   "cell_type": "code",
   "execution_count": null,
   "id": "0b4cfffa",
   "metadata": {},
   "outputs": [],
   "source": [
    "# This should print a madlibs sentence\n",
    "\n",
    "print(f\"To have stolen {number} {noun}s would have been bad enough. But to have stolen {number_times_four} — four times as many! — was simply {adjective}!\")"
   ]
  },
  {
   "cell_type": "markdown",
   "id": "088bbffb",
   "metadata": {},
   "source": [
    "### Task 3: Understanding variable names\n",
    "In the following code, you already have a variable and a print statement that uses it. Rename the variable to anything you like, in both places, so the code still runs. Then add a few more variables, and change the sentence to anything you like. Have fun with it. (Remember, labs are only graded based on whether you get them in on time and make an honest effort — so just make an honest effort, and don't worry too much about messing things up!)"
   ]
  },
  {
   "cell_type": "code",
   "execution_count": 1,
   "id": "f5142538",
   "metadata": {},
   "outputs": [
    {
     "name": "stdout",
     "output_type": "stream",
     "text": [
      "It is True that people who write code professionally often look up how to do things on StackOverflow.\n"
     ]
    }
   ],
   "source": [
    "# Here there is some prewritten code. Alter it and make sure it still produces the right madlibs when it runs.\n",
    "\n",
    "x = True\n",
    "\n",
    "print(f\"It is {x} that people who write code professionally often look up how to do things on StackOverflow.\")"
   ]
  },
  {
   "cell_type": "markdown",
   "id": "76f52070",
   "metadata": {},
   "source": [
    "### Reading Response\n",
    "\n",
    "D’Ignazio and Klein argue in Data Feminism that “a project may be feminist in content, in that it challenges power by choice of subject matter; in form, in that it challenges power by shifting the aesthetic and/or sensory registers of data communication; and/or in process, in that it challenges power by building participatory, inclusive processes of knowledge production.” Could the “distant reading” project of Franco Moretti — as described by himself in “Conjectures on World Literature” or as summarized by Schulz in “Distant Reading” — be described as “feminist” in any of those senses? If not, could it be made feminist?\n",
    "Enter your response in the Markdown cell below (adding any formatting you feel is appropriate) and run the cell."
   ]
  },
  {
   "cell_type": "markdown",
   "id": "b7f9ceb9",
   "metadata": {},
   "source": [
    "  "
   ]
  },
  {
   "cell_type": "markdown",
   "id": "888393bb",
   "metadata": {},
   "source": [
    "### Optional: Questions about this week's material\n",
    "\n",
    "In the Markdown cell below, please feel free ask any question(s) you have about this week’s lecture material and/or the material in this lab."
   ]
  },
  {
   "cell_type": "markdown",
   "id": "981bbc3c",
   "metadata": {},
   "source": [
    "  "
   ]
  },
  {
   "cell_type": "markdown",
   "id": "fe5a7a14",
   "metadata": {},
   "source": [
    "## Marking Rubric\n",
    "\n",
    "For the Reading Response, two points are awarded: one point for ???, and two points for making at honest effort at completing it.\n",
    "\n",
    "The coding questions will be autograded in MarkUs and your mark for these questions are fully determined by the autograder.  For example if it says that 2 out of 3 tests passed successfully, your mark on the question will be 66%.\n",
    "\n",
    "When you submit your work to MarkUs, you can then *run the autograder* on your submission to see how many tests pass, and therefore what grade you'll receive on that submission.\n",
    "You can submit and run the autograder as many times as you like before the homework due date to improve your mark.\n",
    "\n",
    "**Note**: after the due date, Markus will use your *most recent submission before the due date* for the actual grading.\n",
    "\n",
    "## How to Submit\n",
    "\n",
    "1. Do the assignment by editing this notebook, writing in the designated cells.\n",
    "\n",
    "2. Download the completed notebook. Save it as `W02_lab.ipynb`.\n",
    "\n",
    "3. Log in to [MarkUs](https://markus.teach.cs.toronto.edu/markus/main/login_remote_auth) (Tip: Control/Command-click to open it in a new tab so you can still see these instructions.)\n",
    "\n",
    "4. Choose your course (ENG286).\n",
    "\n",
    "5. Click the `lab2: Lab 2` assessment.\n",
    "\n",
    "6. Click the `Submissions` tab. The new page is `Lab 2: Submissions`.\n",
    "\n",
    "7. Click button `Submit File` on the right.\n",
    "\n",
    "8. In the popup window that opens, click button `Browse`/`Choose Files` and select the `W02_lab.ipynb` file that you downloaded.\n",
    "\n",
    "9. MarkUs is picky with filenames! If your notebook file has a different name (e.g., `W02_lab (1).ipynb`), use the dropdown menu to rename it when you submit the file.\n"
   ]
  },
  {
   "cell_type": "markdown",
   "id": "105538d0",
   "metadata": {},
   "source": [
    "## How to Run the Autograder\n",
    "\n",
    "*After* submitting your work, you can run the autograder in MarkUs by doing the following:\n",
    "\n",
    "1. On MarkUs, go to ENG286 course and the assignment page (e.g., `lab02: Lab 2`).\n",
    "2. Click on the \"Automated Testing\" tab, which is beside \"Submissions\".\n",
    "3. On the new page, click on the \"Run tests\" button to run the autograder for this homework.\n",
    "4. Please wait a few minutes (since it takes a bit of time for the tests to run, and the autograder is serving many students and courses at the same time!), and then refresh the page.\n",
    "5. You'll see a table of test results, where each row represents one test.\n",
    "\n",
    "    - Green rows indicate that the test passed, so your code was correct (based on whatever the test was checking).\n",
    "    - Red rows indicate that the test failed, so there was a problem with your code.\n",
    "        If this happens, please read the test message carefully, and make sure to click on the triangle on the left side of the test row to see additional information.\n",
    "\n",
    "If all of the rows are green, that's great! Your code is correct, and you will receive 100% on programming questions for this lab.\n",
    "If some of the rows are red, you can then make changes to your notebook on JupyterHub, and then re-submit and re-run the tests.\n",
    "You can do this as many times as you like up until the lab deadline."
   ]
  }
 ],
 "metadata": {
  "kernelspec": {
   "display_name": "base",
   "language": "python",
   "name": "python3"
  },
  "language_info": {
   "codemirror_mode": {
    "name": "ipython",
    "version": 3
   },
   "file_extension": ".py",
   "mimetype": "text/x-python",
   "name": "python",
   "nbconvert_exporter": "python",
   "pygments_lexer": "ipython3",
   "version": "3.12.2"
  }
 },
 "nbformat": 4,
 "nbformat_minor": 5
}
