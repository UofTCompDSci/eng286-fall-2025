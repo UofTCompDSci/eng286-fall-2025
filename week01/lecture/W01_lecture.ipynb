{
 "cells": [
  {
   "cell_type": "markdown",
   "id": "61541783",
   "metadata": {
    "slideshow": {
     "slide_type": "slide"
    },
    "tags": []
   },
   "source": [
    "# Week 1: Introduction to Jupyter Notebooks, Programming and Python Basics"
   ]
  },
  {
   "cell_type": "markdown",
   "id": "650d455e",
   "metadata": {
    "slideshow": {
     "slide_type": "slide"
    },
    "tags": []
   },
   "source": [
    "## 1. What is Jupyter Lab?"
   ]
  },
  {
   "cell_type": "markdown",
   "id": "6126e932",
   "metadata": {
    "slideshow": {
     "slide_type": ""
    },
    "tags": []
   },
   "source": [
    "The **University of Toronto Jupyter Lab** is a website that hosts and runs Jupyter notebooks.\n",
    "\n",
    "Web site that hosts and run Jupyter notebooks.\n",
    "\n",
    "1. URL: <https://jupyter.utoronto.ca>. To login you'll need your University email, and then UTORid and password.\n",
    "2. Since files are stored and run \"in the cloud\", you can **access your work from any computer with an Internet connection**, and **without installing any software**!\n",
    "3. Every week, we'll post links on the course syllabus that **automatically open notebook files on Jupyter Lab** to complete your work on Jupyter Lab.\n",
    "4. But, you'll still need to **download each notebook to submit to MarkUs**.\n",
    "5. You have to click the link on Quercus to get the updates each week."
   ]
  },
  {
   "cell_type": "markdown",
   "id": "a9b329a1",
   "metadata": {
    "slideshow": {
     "slide_type": "slide"
    }
   },
   "source": [
    "## 2. What is a Jupyter Notebook?\n",
    "\n",
    "Think of it like a Microsoft Word file or a Google Doc that can do some things that neither of those can.  In a Jupyter notebook, you can write and edit text and you can write, edit and run code!\n",
    "\n"
   ]
  },
  {
   "cell_type": "markdown",
   "id": "11a5746a",
   "metadata": {
    "slideshow": {
     "slide_type": "slide"
    }
   },
   "source": [
    "### Markdown and Markdown Cells\n",
    "\n",
    "Markdown is a \"language\" that allows you to format text. \n",
    "\n",
    "Here are some commonly used formatting options:\n",
    "- `Make text *italicized*`: Make text *italized* \n",
    "- `Make text **bold**`: Make text **bold**\n",
    "- `Make text a link to [a website](https://piazza.com/class/mek9ya00g0m7nr)`: Make text a link to [a website](https://piazza.com/class/mek9ya00g0m7nr)\n",
    "- ``Make text `code` ``: Make text `code`\n",
    "\n",
    "See lots more fun Markdown stuff at Adam Pritchard's [Markdown Cheatsheet](https://github.com/adam-p/markdown-here/wiki/Markdown-Cheatsheet)"
   ]
  },
  {
   "cell_type": "markdown",
   "id": "ddec2e4f",
   "metadata": {
    "slideshow": {
     "slide_type": "slide"
    }
   },
   "source": [
    "Play"
   ]
  },
  {
   "cell_type": "markdown",
   "id": "883070e7",
   "metadata": {
    "slideshow": {
     "slide_type": "slide"
    }
   },
   "source": [
    "### \"Running\" Cells\n",
    "\n",
    "Cells in Jupyter notebooks have two \"states\": the \"editing\" state and the \"output\" state. \n",
    "\n",
    "In a Markdown cell, the \"editing\" state is where you put in all your fancy backticks and asterisks and hashes — and the \"output\" state is where all of that coding gets **interpreted** and brought to life.\n",
    "\n",
    "To \"run\" a Markdown cell, you can either click the play button ▶️ on the toolbar above or by typing `Shift` + `Return` on Windows or  `Command` + `Return` on a Mac.\n",
    "\n",
    "Once a Markdown cell has been \"run,\" if you want to return to the \"coding\" state to edit your Markdown code, you can just double click on the cell in question."
   ]
  },
  {
   "cell_type": "markdown",
   "id": "acf0a692",
   "metadata": {
    "slideshow": {
     "slide_type": "slide"
    }
   },
   "source": [
    "### Selecting Cells\n",
    "\n",
    "Cells can \"selected\" in one of two ways. If you see an outline around the cell you're currently in, that means you're **in the cell**, editing it.  If you then click in the left margin of that cell, the outline will turn *blue*, and you've now **selected the cell**, and can do meta-cell things, like turning it from a Markdown to a Code cell."
   ]
  },
  {
   "cell_type": "markdown",
   "id": "257b33d2",
   "metadata": {
    "slideshow": {
     "slide_type": "slide"
    }
   },
   "source": [
    "## 2. What is a Code Cell? What is Python?\n",
    "\n",
    "Python is another \"language\": a general-purpose programming language.\n",
    "\n",
    "Code cells in a Jupyter Notebook expect Python code. \n",
    "\n",
    "Let's start with some really basic expressions:"
   ]
  },
  {
   "cell_type": "code",
   "execution_count": 8,
   "id": "7ef5fe10",
   "metadata": {},
   "outputs": [
    {
     "data": {
      "text/plain": [
       "0.6666666666666666"
      ]
     },
     "execution_count": 8,
     "metadata": {},
     "output_type": "execute_result"
    }
   ],
   "source": []
  },
  {
   "cell_type": "markdown",
   "id": "756ea6ab",
   "metadata": {
    "slideshow": {
     "slide_type": "fragment"
    }
   },
   "source": [
    "What's different between *running* a Markdown Cell and *running* a Code cell?"
   ]
  },
  {
   "cell_type": "markdown",
   "id": "32034415",
   "metadata": {
    "slideshow": {
     "slide_type": "slide"
    }
   },
   "source": [
    "But, we're English students.  We'd rather work with text than numbers!"
   ]
  },
  {
   "cell_type": "code",
   "execution_count": null,
   "id": "7c45695d",
   "metadata": {
    "slideshow": {
     "slide_type": "fragment"
    }
   },
   "outputs": [],
   "source": []
  },
  {
   "cell_type": "markdown",
   "id": "0543d4e3",
   "metadata": {
    "slideshow": {
     "slide_type": "slide"
    }
   },
   "source": [
    "### 3. Python Variables\n",
    "\n",
    "What if we want to save the result of one of those expressions we've been playing with?"
   ]
  },
  {
   "cell_type": "code",
   "execution_count": null,
   "id": "6bec1128",
   "metadata": {},
   "outputs": [],
   "source": [
    "name = \"Karen\" "
   ]
  },
  {
   "cell_type": "markdown",
   "id": "d99e030c",
   "metadata": {
    "slideshow": {
     "slide_type": "slide"
    }
   },
   "source": [
    "### Now for some fun \n",
    "In this small example, we are going to create city or town names by picking a stem name from a list and then picking a suffix from another list"
   ]
  },
  {
   "cell_type": "code",
   "execution_count": 23,
   "id": "bc256320",
   "metadata": {},
   "outputs": [
    {
     "data": {
      "text/plain": [
       "'Stormton'"
      ]
     },
     "execution_count": 23,
     "metadata": {},
     "output_type": "execute_result"
    }
   ],
   "source": [
    "# random is a module that contains functions for generating random numbers\n",
    "import random\n",
    "\n",
    "# stem_list is a variable.  We are assigning a list of strings to it\n",
    "stem_list = ['Spring', 'Hill', 'Sunny', 'Storm', 'Wind', 'Meadow', 'Ever', 'Shroud', 'Crag', 'Rock']\n",
    "\n",
    "suffix_list = ['ville', 'town', 'run', 'burg', 'ton', 'field', 'mount', 'dell', 'wood', 'dale']\n",
    "\n",
    "# random.choice() is a function that returns a random element from a list\n",
    "stem = random.choice(stem_list)\n",
    "suffix = random.choice(suffix_list)\n",
    "\n",
    "# disply the \"sum\" of the stem and suffix\n",
    "stem + suffix"
   ]
  }
 ],
 "metadata": {
  "celltoolbar": "Slideshow",
  "kernelspec": {
   "display_name": "Python 3 (ipykernel)",
   "language": "python",
   "name": "python3"
  },
  "language_info": {
   "codemirror_mode": {
    "name": "ipython",
    "version": 3
   },
   "file_extension": ".py",
   "mimetype": "text/x-python",
   "name": "python",
   "nbconvert_exporter": "python",
   "pygments_lexer": "ipython3",
   "version": "3.12.11"
  }
 },
 "nbformat": 4,
 "nbformat_minor": 5
}
