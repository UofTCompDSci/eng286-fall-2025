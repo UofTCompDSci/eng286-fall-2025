{
 "cells": [
  {
   "cell_type": "markdown",
   "id": "6499ba20",
   "metadata": {},
   "source": [
    "# Week 1: What is this course all about?\n",
    "\n",
    "## Overview\n",
    "\n",
    "Lectures will typically combine the kinds of readings, discussions, and text anlaysis that you may be used to with introductory programming concepts and composing programs to carry out data analysis.  \n",
    "\n",
    "These notes will support the programming lecture content but are too verbose to simply present in class.  During the lecture we will focus on practicing similar examples and solidifying your understanding of these concepts.\n",
    "\n",
    "### A Gentle Introduction to JupyterHub, Jupyter Notebooks, Markdown, and Python Code\n",
    "\n",
    "We will be using a collection of tools to help you learn how to program. The main tool is a document format called Jupyter Notebooks which is what you will use to do nearly all of your work in this course. Your Jupyter Notebooks will live in the cloud on the U of T's JupyterLab (or JupyterHub) system. You will also use a home-grown tool called MarkUs to submit and check your homework, and we are introducing a discussion board called Piazza where you can ask questions and get some help.  All of these are linked from Quercus, so you will have easy access. If it feels like a lot right now, don't worry, we will walk you through how to use these systems and soon it will feel routine.\n",
    "\n",
    "### Helpful Links \n",
    "\n",
    "Most weeks, we will be including links to Melanie Walsh's terrific textbook, [Introduction to Cultural Analytics & Python](https://melaniewalsh.github.io/Intro-Cultural-Analytics/welcome.html). It's not suuuuper helpful this week, since JupyterHub is a U of T thing and Walsh expects her readers to be accessing notebooks in a slightly different way. But you might still want to have a look at [the introductory page to the material on Python](https://melaniewalsh.github.io/Intro-Cultural-Analytics/02-Python/00-Python.html)\n",
    "\n",
    "We will be referring to Adam Pritchard's [Markdown Cheatsheet](https://github.com/adam-p/markdown-here/wiki/Markdown-Cheatsheet)\n",
    "\n",
    "---"
   ]
  },
  {
   "cell_type": "markdown",
   "id": "61541783",
   "metadata": {},
   "source": [
    "# Week 1: Introduction to Jupyter Notebooks, Programming and Python Basics\n",
    "\n",
    "In this course you will be learning the basics of programming with a programming language called Python. We are using Python because it is relatively easy to understand, it is commonly used for introductory programming courses, and it is heavily used by professionals for data science applications.\n",
    "\n",
    "The good news is that you don't have to install Python or any software on your computer because you will be writing Python code and ordinary text in a type of document called Jupyter Notebook. Your Jupyter notebooks will be stored on a U of T hosted system called Jupyter Lab. In fact, this document is a Jupyter Notebook and you are probably reading it on Jupyter Lab (or Jupyter Hub).\n",
    "\n",
    "Jupyter notebooks were designed because data scientists wanted a way to document their work, and to collect together their data, code, and analyses into and easy to understand structure.  This makes it a convenient way to learn about Python and data analysis because we can work with small chunks of code and add explanations around it.\n",
    "\n",
    "First, let's talk more about Jupyter Lab and the format of Jupyter Notebooks, and then we'll start programming!"
   ]
  },
  {
   "cell_type": "markdown",
   "id": "650d455e",
   "metadata": {},
   "source": [
    "## 1. What is Jupyter Lab?"
   ]
  },
  {
   "cell_type": "markdown",
   "id": "6126e932",
   "metadata": {},
   "source": [
    "The **University of Toronto Jupyter Lab** is a website that hosts and runs Jupyter notebooks.\n",
    "\n",
    "Top five things to know:\n",
    "\n",
    "1. URL: <https://jupyter.utoronto.ca>. To login you'll need your University email, and then UTORid and password.\n",
    "2. Since files are stored and run \"in the cloud\", you can **access your work from any computer with an Internet connection**, and **without installing any software**!\n",
    "3. Every week, we'll post links on the course syllabus that **automatically open notebook files on Jupyter Lab** to complete your work on Jupyter Lab.\n",
    "4. But, you'll still need to **download each notebook to submit to MarkUs**.\n",
    "5. You have to click the link on Quercus to get the updates each week.\n",
    "\n",
    "The university actually supports two different environments: JupyterHub and JupyterLab. JupyterHub is the older and perhaps simpler version. JupyterLab has more features including a debugger which can be very handy when code gets a little more complicated.  I'm recommending that you use Jupyter Lab even though it includes a bunch of features that you are unlikely to use."
   ]
  },
  {
   "cell_type": "markdown",
   "id": "f661f950",
   "metadata": {},
   "source": [
    "When you log into Jupyter Lab, all the work that you are doing in that context in running on another computer \"in the cloud\". In other words, the work is being saved and run on another machine on the internet rather than on your own computer. Logging in to Jupyter Lab gives you a personal environment called a server.\n",
    "\n",
    "When you open and run a Jupyter Notebook, the notebook runs inside a \"kernel\", which you can think of as a container for the notebook.  Sometimes when the code isn't working correctly (and sometimes even when it is), the \"kernel\" can get into a state where it can't run properly, and needs to be restarted. Use the `Kernel` menu to restart the notebook's kernel in this case and if it still doensn't work, you may need to restart it and run the cells one by one to figure out which code is causing the kernel to have problems.\n",
    "\n",
    "![Screenshot of the Jupyter Lab Kernel menu](kernelmenu.png \"Jupyter Lab Kernel menu\")\n"
   ]
  },
  {
   "cell_type": "markdown",
   "id": "a9b329a1",
   "metadata": {},
   "source": [
    "## 2. What is a Jupyter Notebook?\n",
    "\n",
    "Think of it like a Microsoft Word file or a Google Doc that can do some things that neither of those can.\n",
    "* Like a Word file or a Google Doc, you can write text into a Jupyter notebook, and format it with things like *italics*, **bolding**, etc. \n",
    "* Unlike a Word file or a Google Doc, you can **DO PROGRAMMING** in a Jupyter Notebook. Which is why we're using them!\n",
    "\n",
    "Just as essays and novels are broken into *paragraphs*, the basic unit of a Jupyter Notebook is a *\"cell\"* (not to be confused with a jail cell). \n",
    "\n",
    "You can create a new cell by clicking the plus `+` sign in the toolbar or by pressing `Option` + `Return` (Mac) / `Alt` `Return` (Windows).\n",
    "\n",
    "These can be of two types (that we will use, anyway): **Markdown cells** and **Code cells**. You can switch between types by accessing the \"Cell\" --> \"Cell Type\" menu, as below:\n",
    "\n",
    "![Screenshot of the Jupyter Lab Run menu](runmenu.png \"Jupyter Lab Run menu\")\n",
    "\n"
   ]
  },
  {
   "cell_type": "markdown",
   "id": "11a5746a",
   "metadata": {},
   "source": [
    "### Markdown and Markdown Cells\n",
    "\n",
    "Markdown is a \"language\" that allows you to format text. Instead of selecting text and using menus to change the format of the text like you might do in MS Word, Markdown interprets punctuation characters embedded in the text itself to determine how to display the text. \n",
    "\n",
    "When you first view this cell you see the results of the formatting. To see and edit the Markdown text itself, double-click on the cell. To go back to \"display mode\" you can click the run button when this cell is selected.\n",
    "\n",
    "Here are some commonly used formatting options:\n",
    "\n",
    "`Make text *italicized*`: Make text *italized* \n",
    "\n",
    "`Make text **bold**`: Make text **bold**\n",
    "\n",
    "`Make text a link to [a website](https://piazza.com/class/mek9ya00g0m7nr)`: Make text a link to [a website](https://piazza.com/class/mek9ya00g0m7nr)\n",
    "\n",
    "``Make text `code` ``: Make text `code`\n",
    "\n",
    "(The kind of tricky one here is that surrounding text in backquotes (`) makes the text look like formatted code, but also shows exactly the characters that were typed.)\n",
    "\n",
    "See lots more fun Markdown stuff at Adam Pritchard's [Markdown Cheatsheet](https://github.com/adam-p/markdown-here/wiki/Markdown-Cheatsheet)"
   ]
  },
  {
   "cell_type": "markdown",
   "id": "3d1416d1",
   "metadata": {},
   "source": [
    "### Use this cell for playing around with markdown: \n",
    "\n",
    "\n",
    "Play __play__ *play*\n"
   ]
  },
  {
   "cell_type": "markdown",
   "id": "883070e7",
   "metadata": {},
   "source": [
    "### \"Running\" Cells\n",
    "\n",
    "Cells in Jupyter notebooks have two \"states\": the \"editing\" state and the \"output\" state. \n",
    "\n",
    "In a Markdown cell, the \"editing\" state is where you put in all your fancy backticks and asteriks and hashes — and the \"output\" state is where all of that coding gets **intepreted** and brought to life.\n",
    "\n",
    "To \"run\" a Markdown cell, you can either click the play button ▶️ on the toolbar above or by typing `Shift` + `Return` on Windows or  `Command` + `Return` on a Mac.\n",
    "\n",
    "Once a Markdown cell has been \"run,\" if you want to return to the \"coding\" state to edit your Markdown code, you can just double click on the cell in question."
   ]
  },
  {
   "cell_type": "markdown",
   "id": "acf0a692",
   "metadata": {},
   "source": [
    "### Selecting Cells\n",
    "\n",
    "This is probably as good a time as any to note that cells can \"selected\" in one of two ways. If you see an outline around the cell you're currently in, that means you're **in the cell**, editing it.  If you then click in the left margin of that cell, the outline will turn *blue*, and you've now **selected the cell**, and can do meta-cell things, like turning it from a Markdown to a Code cell."
   ]
  },
  {
   "cell_type": "markdown",
   "id": "257b33d2",
   "metadata": {},
   "source": [
    "## 2. What is a Code Cell? What is Python?\n",
    "\n",
    "Python is another \"language\": a general-purpose programming language.\n",
    "\n",
    "There are lots of programming languages out there, but we decided on Python because it's widely used especially for data analysis, it's the one you're most likely to use in the workplace, it's known to be relatively easy to learn, ... and it's also the most aesthetically pleasing one, for English Lit people anyway.\n",
    "\n",
    "Code cells in a Jupyter Notebook expect Python code. Indeed, in this configuration, it's the only programming language that will be understood and interpreted. The way we have your Jupyter Notebooks set up, they \"only speak Python,\" so to speak. \n",
    "\n",
    "Over the course of this year, we'll be learning to \"speak Python.\" But let's start with the basics: the \"hello,\" \"goodbye,\" \"one beer, please,\" of the language...\n",
    "\n",
    "For instance, the below is perfectly valid code. The Python interpreter will understand it, consider it, and give you an answer:"
   ]
  },
  {
   "cell_type": "code",
   "execution_count": null,
   "id": "f55303a7",
   "metadata": {
    "scrolled": true
   },
   "outputs": [],
   "source": [
    "2 + 3"
   ]
  },
  {
   "cell_type": "markdown",
   "id": "756ea6ab",
   "metadata": {},
   "source": [
    "Note that with Code Cells, the \"editing state\" isn't *replaced* with an \"output state,\" as with Markdown cells. With coding cells, you see both the code (in a grey box, with the word `In` and a number next to it) and the results (no box, with `Out` and a matching number). You **run** a Code Cell the same was as a Markdown cell, by hitting the play button, or by pressing `Shift`-`Return` or `Command`-`Return`\n",
    "\n",
    "Anyway, so, Python understands all the basic mathematical operations: addition (with a `+`), subtraction (`-`), multiplication (`*`), and dividion (`/`)."
   ]
  },
  {
   "cell_type": "code",
   "execution_count": null,
   "id": "26b60909",
   "metadata": {},
   "outputs": [],
   "source": [
    "2 - 3"
   ]
  },
  {
   "cell_type": "code",
   "execution_count": null,
   "id": "0f23f03b",
   "metadata": {},
   "outputs": [],
   "source": [
    "2 * 3"
   ]
  },
  {
   "cell_type": "code",
   "execution_count": null,
   "id": "88735724",
   "metadata": {},
   "outputs": [],
   "source": [
    "2 / 3"
   ]
  },
  {
   "cell_type": "markdown",
   "id": "b8628e38",
   "metadata": {},
   "source": [
    "Note that it will also understand this rather simpler command"
   ]
  },
  {
   "cell_type": "code",
   "execution_count": null,
   "id": "1413ab44",
   "metadata": {},
   "outputs": [],
   "source": [
    "2"
   ]
  },
  {
   "cell_type": "markdown",
   "id": "32034415",
   "metadata": {},
   "source": [
    "Now, as English students, you're probably all more interested in *words* than *numbers*, right? Well, thankfully, Python is also capable of understanding and doing things with words. On the condition, that is, that we put these words `\"into quotation marks\"`, so that Python understands they're words, not some other kind of code."
   ]
  },
  {
   "cell_type": "code",
   "execution_count": null,
   "id": "7c45695d",
   "metadata": {},
   "outputs": [],
   "source": [
    "two"
   ]
  },
  {
   "cell_type": "code",
   "execution_count": null,
   "id": "4aea3fec",
   "metadata": {},
   "outputs": [],
   "source": [
    "\"two\""
   ]
  },
  {
   "cell_type": "markdown",
   "id": "fe662655",
   "metadata": {},
   "source": [
    "Amusingly, due to something called \"polymorphism,\" many of the mathematical operations we've just met also produce results when applied to `\"words\"` — though what they do to words is different from what they do to numbers... more like metaphorical addition than actual addition. \n",
    "\n",
    "Let's work throught the following examples and try to figure out what they tell us about Python, how it thinks, and how it deal with numbers and words..."
   ]
  },
  {
   "cell_type": "code",
   "execution_count": null,
   "id": "438e5b4b",
   "metadata": {},
   "outputs": [],
   "source": [
    "\"two\" + \"three\""
   ]
  },
  {
   "cell_type": "code",
   "execution_count": null,
   "id": "d8abcdcb",
   "metadata": {},
   "outputs": [],
   "source": [
    "\"two\" - \"three\""
   ]
  },
  {
   "cell_type": "markdown",
   "id": "e5cd5c76",
   "metadata": {},
   "source": [
    "Now, why does the first one not work, but the second one does?"
   ]
  },
  {
   "cell_type": "code",
   "execution_count": null,
   "id": "b34e97b7",
   "metadata": {},
   "outputs": [],
   "source": [
    "\"two\" * \"three\""
   ]
  },
  {
   "cell_type": "code",
   "execution_count": null,
   "id": "2620b944",
   "metadata": {},
   "outputs": [],
   "source": [
    "\"two\" * 3"
   ]
  },
  {
   "cell_type": "code",
   "execution_count": null,
   "id": "11c1d8af",
   "metadata": {},
   "outputs": [],
   "source": [
    "\"My name is Karen\" * 3"
   ]
  },
  {
   "cell_type": "markdown",
   "id": "0543d4e3",
   "metadata": {},
   "source": [
    "### 3. Python Variables\n",
    "\n",
    "We have been talking about and  "
   ]
  }
 ],
 "metadata": {
  "kernelspec": {
   "display_name": "Python 3.10.5 64-bit",
   "language": "python",
   "name": "python3"
  },
  "language_info": {
   "codemirror_mode": {
    "name": "ipython",
    "version": 3
   },
   "file_extension": ".py",
   "mimetype": "text/x-python",
   "name": "python",
   "nbconvert_exporter": "python",
   "pygments_lexer": "ipython3",
   "version": "3.7.3"
  },
  "vscode": {
   "interpreter": {
    "hash": "901b79e026e03396fd1ffa7133844e9ea80e258ce34c66e1aabb5896bcb18463"
   }
  }
 },
 "nbformat": 4,
 "nbformat_minor": 5
}
